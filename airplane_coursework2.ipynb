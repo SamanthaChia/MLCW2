{
 "cells": [
  {
   "cell_type": "markdown",
   "metadata": {},
   "source": [
    "## Introduction"
   ]
  },
  {
   "cell_type": "markdown",
   "metadata": {},
   "source": [
    "The project will be according to the universal workflow of machine learning.\n",
    "The workflow begins with defining the problem, and for this project it will be trying to solve for binary classification on if the tweets are positive are negative regarding US Airline.\n",
    "\n",
    "The project uses dataset from [Twitter US Airline Sentiment](https://www.kaggle.com/crowdflower/twitter-airline-sentiment) retrieved from kaggle. The input of the model will be the text post, and output will be the type/ airline_sentiment, if it is negative or positive type of post about the airline\n",
    "\n",
    "Things to note would be that because in this dataset, data are split into negative, neutral and positive, I intend to only focus on the positive and negative, thus will be removing data that are neutral.\n",
    "\n",
    "The measure of success for this problem will be accuracy, because how accurate the model will be able to determine if the post on twitter is positive or negative would be imporant. "
   ]
  },
  {
   "cell_type": "markdown",
   "metadata": {},
   "source": [
    "### Preparing the Data\n",
    "\n",
    "The dataset contains rows of data where there are 14600 rows of data,the output of the data will be predicted based on the input that is the text posted from users."
   ]
  },
  {
   "cell_type": "code",
   "execution_count": 1,
   "metadata": {},
   "outputs": [
    {
     "name": "stdout",
     "output_type": "stream",
     "text": [
      "Requirement already satisfied: tensorflow in c:\\users\\samantha\\anaconda3\\lib\\site-packages (2.8.0)\n",
      "Requirement already satisfied: tensorflow-io-gcs-filesystem>=0.23.1 in c:\\users\\samantha\\anaconda3\\lib\\site-packages (from tensorflow) (0.24.0)\n",
      "Requirement already satisfied: tensorboard<2.9,>=2.8 in c:\\users\\samantha\\anaconda3\\lib\\site-packages (from tensorflow) (2.8.0)\n",
      "Requirement already satisfied: absl-py>=0.4.0 in c:\\users\\samantha\\anaconda3\\lib\\site-packages (from tensorflow) (1.0.0)\n",
      "Requirement already satisfied: opt-einsum>=2.3.2 in c:\\users\\samantha\\anaconda3\\lib\\site-packages (from tensorflow) (3.3.0)\n",
      "Requirement already satisfied: six>=1.12.0 in c:\\users\\samantha\\anaconda3\\lib\\site-packages (from tensorflow) (1.15.0)\n",
      "Requirement already satisfied: gast>=0.2.1 in c:\\users\\samantha\\anaconda3\\lib\\site-packages (from tensorflow) (0.5.3)\n",
      "Requirement already satisfied: flatbuffers>=1.12 in c:\\users\\samantha\\anaconda3\\lib\\site-packages (from tensorflow) (2.0)\n",
      "Requirement already satisfied: tf-estimator-nightly==2.8.0.dev2021122109 in c:\\users\\samantha\\anaconda3\\lib\\site-packages (from tensorflow) (2.8.0.dev2021122109)\n",
      "Requirement already satisfied: termcolor>=1.1.0 in c:\\users\\samantha\\anaconda3\\lib\\site-packages (from tensorflow) (1.1.0)\n",
      "Requirement already satisfied: h5py>=2.9.0 in c:\\users\\samantha\\anaconda3\\lib\\site-packages (from tensorflow) (2.10.0)\n",
      "Requirement already satisfied: keras-preprocessing>=1.1.1 in c:\\users\\samantha\\anaconda3\\lib\\site-packages (from tensorflow) (1.1.2)\n",
      "Requirement already satisfied: astunparse>=1.6.0 in c:\\users\\samantha\\anaconda3\\lib\\site-packages (from tensorflow) (1.6.3)\n",
      "Requirement already satisfied: google-pasta>=0.1.1 in c:\\users\\samantha\\anaconda3\\lib\\site-packages (from tensorflow) (0.2.0)\n",
      "Requirement already satisfied: setuptools in c:\\users\\samantha\\anaconda3\\lib\\site-packages (from tensorflow) (52.0.0.post20210125)\n",
      "Requirement already satisfied: keras<2.9,>=2.8.0rc0 in c:\\users\\samantha\\anaconda3\\lib\\site-packages (from tensorflow) (2.8.0)\n",
      "Requirement already satisfied: typing-extensions>=3.6.6 in c:\\users\\samantha\\anaconda3\\lib\\site-packages (from tensorflow) (3.7.4.3)\n",
      "Requirement already satisfied: wrapt>=1.11.0 in c:\\users\\samantha\\anaconda3\\lib\\site-packages (from tensorflow) (1.12.1)\n",
      "Requirement already satisfied: libclang>=9.0.1 in c:\\users\\samantha\\anaconda3\\lib\\site-packages (from tensorflow) (13.0.0)\n",
      "Requirement already satisfied: protobuf>=3.9.2 in c:\\users\\samantha\\anaconda3\\lib\\site-packages (from tensorflow) (3.19.4)\n",
      "Requirement already satisfied: grpcio<2.0,>=1.24.3 in c:\\users\\samantha\\anaconda3\\lib\\site-packages (from tensorflow) (1.44.0)\n",
      "Requirement already satisfied: numpy>=1.20 in c:\\users\\samantha\\anaconda3\\lib\\site-packages (from tensorflow) (1.22.3)\n",
      "Requirement already satisfied: wheel<1.0,>=0.23.0 in c:\\users\\samantha\\anaconda3\\lib\\site-packages (from astunparse>=1.6.0->tensorflow) (0.36.2)\n",
      "Requirement already satisfied: markdown>=2.6.8 in c:\\users\\samantha\\anaconda3\\lib\\site-packages (from tensorboard<2.9,>=2.8->tensorflow) (3.3.6)\n",
      "Requirement already satisfied: requests<3,>=2.21.0 in c:\\users\\samantha\\anaconda3\\lib\\site-packages (from tensorboard<2.9,>=2.8->tensorflow) (2.25.1)\n",
      "Requirement already satisfied: werkzeug>=0.11.15 in c:\\users\\samantha\\anaconda3\\lib\\site-packages (from tensorboard<2.9,>=2.8->tensorflow) (1.0.1)\n",
      "Requirement already satisfied: google-auth-oauthlib<0.5,>=0.4.1 in c:\\users\\samantha\\anaconda3\\lib\\site-packages (from tensorboard<2.9,>=2.8->tensorflow) (0.4.6)\n",
      "Requirement already satisfied: google-auth<3,>=1.6.3 in c:\\users\\samantha\\anaconda3\\lib\\site-packages (from tensorboard<2.9,>=2.8->tensorflow) (2.6.0)\n",
      "Requirement already satisfied: tensorboard-data-server<0.7.0,>=0.6.0 in c:\\users\\samantha\\anaconda3\\lib\\site-packages (from tensorboard<2.9,>=2.8->tensorflow) (0.6.1)\n",
      "Requirement already satisfied: tensorboard-plugin-wit>=1.6.0 in c:\\users\\samantha\\anaconda3\\lib\\site-packages (from tensorboard<2.9,>=2.8->tensorflow) (1.8.1)\n",
      "Requirement already satisfied: cachetools<6.0,>=2.0.0 in c:\\users\\samantha\\anaconda3\\lib\\site-packages (from google-auth<3,>=1.6.3->tensorboard<2.9,>=2.8->tensorflow) (5.0.0)\n",
      "Requirement already satisfied: pyasn1-modules>=0.2.1 in c:\\users\\samantha\\anaconda3\\lib\\site-packages (from google-auth<3,>=1.6.3->tensorboard<2.9,>=2.8->tensorflow) (0.2.8)\n",
      "Requirement already satisfied: rsa<5,>=3.1.4 in c:\\users\\samantha\\anaconda3\\lib\\site-packages (from google-auth<3,>=1.6.3->tensorboard<2.9,>=2.8->tensorflow) (4.8)\n",
      "Requirement already satisfied: requests-oauthlib>=0.7.0 in c:\\users\\samantha\\anaconda3\\lib\\site-packages (from google-auth-oauthlib<0.5,>=0.4.1->tensorboard<2.9,>=2.8->tensorflow) (1.3.1)\n",
      "Requirement already satisfied: importlib-metadata>=4.4 in c:\\users\\samantha\\anaconda3\\lib\\site-packages (from markdown>=2.6.8->tensorboard<2.9,>=2.8->tensorflow) (4.10.0)\n",
      "Requirement already satisfied: zipp>=0.5 in c:\\users\\samantha\\anaconda3\\lib\\site-packages (from importlib-metadata>=4.4->markdown>=2.6.8->tensorboard<2.9,>=2.8->tensorflow) (3.4.1)\n",
      "Requirement already satisfied: pyasn1<0.5.0,>=0.4.6 in c:\\users\\samantha\\anaconda3\\lib\\site-packages (from pyasn1-modules>=0.2.1->google-auth<3,>=1.6.3->tensorboard<2.9,>=2.8->tensorflow) (0.4.8)\n",
      "Requirement already satisfied: chardet<5,>=3.0.2 in c:\\users\\samantha\\anaconda3\\lib\\site-packages (from requests<3,>=2.21.0->tensorboard<2.9,>=2.8->tensorflow) (4.0.0)\n",
      "Requirement already satisfied: idna<3,>=2.5 in c:\\users\\samantha\\anaconda3\\lib\\site-packages (from requests<3,>=2.21.0->tensorboard<2.9,>=2.8->tensorflow) (2.10)\n",
      "Requirement already satisfied: certifi>=2017.4.17 in c:\\users\\samantha\\anaconda3\\lib\\site-packages (from requests<3,>=2.21.0->tensorboard<2.9,>=2.8->tensorflow) (2020.12.5)\n",
      "Requirement already satisfied: urllib3<1.27,>=1.21.1 in c:\\users\\samantha\\anaconda3\\lib\\site-packages (from requests<3,>=2.21.0->tensorboard<2.9,>=2.8->tensorflow) (1.26.4)\n",
      "Requirement already satisfied: oauthlib>=3.0.0 in c:\\users\\samantha\\anaconda3\\lib\\site-packages (from requests-oauthlib>=0.7.0->google-auth-oauthlib<0.5,>=0.4.1->tensorboard<2.9,>=2.8->tensorflow) (3.2.0)\n"
     ]
    }
   ],
   "source": [
    "!pip install tensorflow"
   ]
  },
  {
   "cell_type": "code",
   "execution_count": 2,
   "metadata": {},
   "outputs": [
    {
     "name": "stdout",
     "output_type": "stream",
     "text": [
      "Requirement already satisfied: keras in c:\\users\\samantha\\anaconda3\\lib\\site-packages (2.8.0)\n"
     ]
    }
   ],
   "source": [
    "!pip install keras"
   ]
  },
  {
   "cell_type": "markdown",
   "metadata": {},
   "source": [
    "### Import necessary modules"
   ]
  },
  {
   "cell_type": "code",
   "execution_count": 3,
   "metadata": {},
   "outputs": [],
   "source": [
    "import pandas as pd\n",
    "import matplotlib.pyplot as plt\n",
    "import numpy as np\n",
    "import re\n",
    "import collections\n",
    "import tensorflow as tf\n",
    "import nltk\n",
    "\n",
    "from pathlib import Path\n",
    "from keras.preprocessing.text import Tokenizer\n",
    "from keras.utils.np_utils import to_categorical\n",
    "from sklearn import preprocessing\n",
    "from sklearn.model_selection import train_test_split\n",
    "from nltk.corpus import stopwords\n",
    "from sklearn.preprocessing import LabelEncoder\n",
    "from keras import models, layers, regularizers"
   ]
  },
  {
   "cell_type": "markdown",
   "metadata": {},
   "source": [
    "### Download nltk resource\n",
    "\n",
    "Download stopwards package to use"
   ]
  },
  {
   "cell_type": "code",
   "execution_count": 4,
   "metadata": {},
   "outputs": [
    {
     "name": "stderr",
     "output_type": "stream",
     "text": [
      "[nltk_data] Downloading package stopwords to\n",
      "[nltk_data]     C:\\Users\\Samantha\\AppData\\Roaming\\nltk_data...\n",
      "[nltk_data]   Package stopwords is already up-to-date!\n"
     ]
    },
    {
     "data": {
      "text/plain": [
       "True"
      ]
     },
     "execution_count": 4,
     "metadata": {},
     "output_type": "execute_result"
    }
   ],
   "source": [
    "nltk.download('stopwords')"
   ]
  },
  {
   "cell_type": "markdown",
   "metadata": {},
   "source": [
    "### Read the csv file"
   ]
  },
  {
   "cell_type": "code",
   "execution_count": 5,
   "metadata": {
    "scrolled": true
   },
   "outputs": [
    {
     "name": "stdout",
     "output_type": "stream",
     "text": [
      "<class 'pandas.core.frame.DataFrame'>\n",
      "RangeIndex: 14640 entries, 0 to 14639\n",
      "Data columns (total 15 columns):\n",
      " #   Column                        Non-Null Count  Dtype  \n",
      "---  ------                        --------------  -----  \n",
      " 0   tweet_id                      14640 non-null  int64  \n",
      " 1   airline_sentiment             14640 non-null  object \n",
      " 2   airline_sentiment_confidence  14640 non-null  float64\n",
      " 3   negativereason                9178 non-null   object \n",
      " 4   negativereason_confidence     10522 non-null  float64\n",
      " 5   airline                       14640 non-null  object \n",
      " 6   airline_sentiment_gold        40 non-null     object \n",
      " 7   name                          14640 non-null  object \n",
      " 8   negativereason_gold           32 non-null     object \n",
      " 9   retweet_count                 14640 non-null  int64  \n",
      " 10  text                          14640 non-null  object \n",
      " 11  tweet_coord                   1019 non-null   object \n",
      " 12  tweet_created                 14640 non-null  object \n",
      " 13  tweet_location                9907 non-null   object \n",
      " 14  user_timezone                 9820 non-null   object \n",
      "dtypes: float64(2), int64(2), object(11)\n",
      "memory usage: 1.7+ MB\n"
     ]
    }
   ],
   "source": [
    "data = pd.read_csv(\"Tweets.csv\")\n",
    "data.info()"
   ]
  },
  {
   "cell_type": "markdown",
   "metadata": {},
   "source": [
    "Filtering the dataset to only contain positive and negative airline sentiments."
   ]
  },
  {
   "cell_type": "code",
   "execution_count": 6,
   "metadata": {},
   "outputs": [],
   "source": [
    "filtered_data = data[(data['airline_sentiment']=='positive') | (data['airline_sentiment']=='negative')]"
   ]
  },
  {
   "cell_type": "code",
   "execution_count": 7,
   "metadata": {},
   "outputs": [
    {
     "data": {
      "text/html": [
       "<div>\n",
       "<style scoped>\n",
       "    .dataframe tbody tr th:only-of-type {\n",
       "        vertical-align: middle;\n",
       "    }\n",
       "\n",
       "    .dataframe tbody tr th {\n",
       "        vertical-align: top;\n",
       "    }\n",
       "\n",
       "    .dataframe thead th {\n",
       "        text-align: right;\n",
       "    }\n",
       "</style>\n",
       "<table border=\"1\" class=\"dataframe\">\n",
       "  <thead>\n",
       "    <tr style=\"text-align: right;\">\n",
       "      <th></th>\n",
       "      <th>tweet_id</th>\n",
       "      <th>airline_sentiment</th>\n",
       "      <th>airline_sentiment_confidence</th>\n",
       "      <th>negativereason</th>\n",
       "      <th>negativereason_confidence</th>\n",
       "      <th>airline</th>\n",
       "      <th>airline_sentiment_gold</th>\n",
       "      <th>name</th>\n",
       "      <th>negativereason_gold</th>\n",
       "      <th>retweet_count</th>\n",
       "      <th>text</th>\n",
       "      <th>tweet_coord</th>\n",
       "      <th>tweet_created</th>\n",
       "      <th>tweet_location</th>\n",
       "      <th>user_timezone</th>\n",
       "    </tr>\n",
       "  </thead>\n",
       "  <tbody>\n",
       "    <tr>\n",
       "      <th>1</th>\n",
       "      <td>570301130888122368</td>\n",
       "      <td>positive</td>\n",
       "      <td>0.3486</td>\n",
       "      <td>NaN</td>\n",
       "      <td>0.0000</td>\n",
       "      <td>Virgin America</td>\n",
       "      <td>NaN</td>\n",
       "      <td>jnardino</td>\n",
       "      <td>NaN</td>\n",
       "      <td>0</td>\n",
       "      <td>@VirginAmerica plus you've added commercials t...</td>\n",
       "      <td>NaN</td>\n",
       "      <td>2015-02-24 11:15:59 -0800</td>\n",
       "      <td>NaN</td>\n",
       "      <td>Pacific Time (US &amp; Canada)</td>\n",
       "    </tr>\n",
       "    <tr>\n",
       "      <th>3</th>\n",
       "      <td>570301031407624196</td>\n",
       "      <td>negative</td>\n",
       "      <td>1.0000</td>\n",
       "      <td>Bad Flight</td>\n",
       "      <td>0.7033</td>\n",
       "      <td>Virgin America</td>\n",
       "      <td>NaN</td>\n",
       "      <td>jnardino</td>\n",
       "      <td>NaN</td>\n",
       "      <td>0</td>\n",
       "      <td>@VirginAmerica it's really aggressive to blast...</td>\n",
       "      <td>NaN</td>\n",
       "      <td>2015-02-24 11:15:36 -0800</td>\n",
       "      <td>NaN</td>\n",
       "      <td>Pacific Time (US &amp; Canada)</td>\n",
       "    </tr>\n",
       "    <tr>\n",
       "      <th>4</th>\n",
       "      <td>570300817074462722</td>\n",
       "      <td>negative</td>\n",
       "      <td>1.0000</td>\n",
       "      <td>Can't Tell</td>\n",
       "      <td>1.0000</td>\n",
       "      <td>Virgin America</td>\n",
       "      <td>NaN</td>\n",
       "      <td>jnardino</td>\n",
       "      <td>NaN</td>\n",
       "      <td>0</td>\n",
       "      <td>@VirginAmerica and it's a really big bad thing...</td>\n",
       "      <td>NaN</td>\n",
       "      <td>2015-02-24 11:14:45 -0800</td>\n",
       "      <td>NaN</td>\n",
       "      <td>Pacific Time (US &amp; Canada)</td>\n",
       "    </tr>\n",
       "    <tr>\n",
       "      <th>5</th>\n",
       "      <td>570300767074181121</td>\n",
       "      <td>negative</td>\n",
       "      <td>1.0000</td>\n",
       "      <td>Can't Tell</td>\n",
       "      <td>0.6842</td>\n",
       "      <td>Virgin America</td>\n",
       "      <td>NaN</td>\n",
       "      <td>jnardino</td>\n",
       "      <td>NaN</td>\n",
       "      <td>0</td>\n",
       "      <td>@VirginAmerica seriously would pay $30 a fligh...</td>\n",
       "      <td>NaN</td>\n",
       "      <td>2015-02-24 11:14:33 -0800</td>\n",
       "      <td>NaN</td>\n",
       "      <td>Pacific Time (US &amp; Canada)</td>\n",
       "    </tr>\n",
       "    <tr>\n",
       "      <th>6</th>\n",
       "      <td>570300616901320704</td>\n",
       "      <td>positive</td>\n",
       "      <td>0.6745</td>\n",
       "      <td>NaN</td>\n",
       "      <td>0.0000</td>\n",
       "      <td>Virgin America</td>\n",
       "      <td>NaN</td>\n",
       "      <td>cjmcginnis</td>\n",
       "      <td>NaN</td>\n",
       "      <td>0</td>\n",
       "      <td>@VirginAmerica yes, nearly every time I fly VX...</td>\n",
       "      <td>NaN</td>\n",
       "      <td>2015-02-24 11:13:57 -0800</td>\n",
       "      <td>San Francisco CA</td>\n",
       "      <td>Pacific Time (US &amp; Canada)</td>\n",
       "    </tr>\n",
       "  </tbody>\n",
       "</table>\n",
       "</div>"
      ],
      "text/plain": [
       "             tweet_id airline_sentiment  airline_sentiment_confidence  \\\n",
       "1  570301130888122368          positive                        0.3486   \n",
       "3  570301031407624196          negative                        1.0000   \n",
       "4  570300817074462722          negative                        1.0000   \n",
       "5  570300767074181121          negative                        1.0000   \n",
       "6  570300616901320704          positive                        0.6745   \n",
       "\n",
       "  negativereason  negativereason_confidence         airline  \\\n",
       "1            NaN                     0.0000  Virgin America   \n",
       "3     Bad Flight                     0.7033  Virgin America   \n",
       "4     Can't Tell                     1.0000  Virgin America   \n",
       "5     Can't Tell                     0.6842  Virgin America   \n",
       "6            NaN                     0.0000  Virgin America   \n",
       "\n",
       "  airline_sentiment_gold        name negativereason_gold  retweet_count  \\\n",
       "1                    NaN    jnardino                 NaN              0   \n",
       "3                    NaN    jnardino                 NaN              0   \n",
       "4                    NaN    jnardino                 NaN              0   \n",
       "5                    NaN    jnardino                 NaN              0   \n",
       "6                    NaN  cjmcginnis                 NaN              0   \n",
       "\n",
       "                                                text tweet_coord  \\\n",
       "1  @VirginAmerica plus you've added commercials t...         NaN   \n",
       "3  @VirginAmerica it's really aggressive to blast...         NaN   \n",
       "4  @VirginAmerica and it's a really big bad thing...         NaN   \n",
       "5  @VirginAmerica seriously would pay $30 a fligh...         NaN   \n",
       "6  @VirginAmerica yes, nearly every time I fly VX...         NaN   \n",
       "\n",
       "               tweet_created    tweet_location               user_timezone  \n",
       "1  2015-02-24 11:15:59 -0800               NaN  Pacific Time (US & Canada)  \n",
       "3  2015-02-24 11:15:36 -0800               NaN  Pacific Time (US & Canada)  \n",
       "4  2015-02-24 11:14:45 -0800               NaN  Pacific Time (US & Canada)  \n",
       "5  2015-02-24 11:14:33 -0800               NaN  Pacific Time (US & Canada)  \n",
       "6  2015-02-24 11:13:57 -0800  San Francisco CA  Pacific Time (US & Canada)  "
      ]
     },
     "execution_count": 7,
     "metadata": {},
     "output_type": "execute_result"
    }
   ],
   "source": [
    "filtered_data.head()"
   ]
  },
  {
   "cell_type": "code",
   "execution_count": 8,
   "metadata": {
    "scrolled": true
   },
   "outputs": [
    {
     "data": {
      "text/html": [
       "<div>\n",
       "<style scoped>\n",
       "    .dataframe tbody tr th:only-of-type {\n",
       "        vertical-align: middle;\n",
       "    }\n",
       "\n",
       "    .dataframe tbody tr th {\n",
       "        vertical-align: top;\n",
       "    }\n",
       "\n",
       "    .dataframe thead th {\n",
       "        text-align: right;\n",
       "    }\n",
       "</style>\n",
       "<table border=\"1\" class=\"dataframe\">\n",
       "  <thead>\n",
       "    <tr style=\"text-align: right;\">\n",
       "      <th></th>\n",
       "      <th>tweet_id</th>\n",
       "      <th>airline_sentiment_confidence</th>\n",
       "      <th>negativereason_confidence</th>\n",
       "      <th>retweet_count</th>\n",
       "    </tr>\n",
       "  </thead>\n",
       "  <tbody>\n",
       "    <tr>\n",
       "      <th>count</th>\n",
       "      <td>1.154100e+04</td>\n",
       "      <td>11541.000000</td>\n",
       "      <td>9508.000000</td>\n",
       "      <td>11541.000000</td>\n",
       "    </tr>\n",
       "    <tr>\n",
       "      <th>mean</th>\n",
       "      <td>5.692275e+17</td>\n",
       "      <td>0.920809</td>\n",
       "      <td>0.706371</td>\n",
       "      <td>0.088467</td>\n",
       "    </tr>\n",
       "    <tr>\n",
       "      <th>std</th>\n",
       "      <td>7.712728e+14</td>\n",
       "      <td>0.149579</td>\n",
       "      <td>0.269716</td>\n",
       "      <td>0.767555</td>\n",
       "    </tr>\n",
       "    <tr>\n",
       "      <th>min</th>\n",
       "      <td>5.675900e+17</td>\n",
       "      <td>0.335600</td>\n",
       "      <td>0.000000</td>\n",
       "      <td>0.000000</td>\n",
       "    </tr>\n",
       "    <tr>\n",
       "      <th>25%</th>\n",
       "      <td>5.685838e+17</td>\n",
       "      <td>1.000000</td>\n",
       "      <td>0.637175</td>\n",
       "      <td>0.000000</td>\n",
       "    </tr>\n",
       "    <tr>\n",
       "      <th>50%</th>\n",
       "      <td>5.694980e+17</td>\n",
       "      <td>1.000000</td>\n",
       "      <td>0.677800</td>\n",
       "      <td>0.000000</td>\n",
       "    </tr>\n",
       "    <tr>\n",
       "      <th>75%</th>\n",
       "      <td>5.698796e+17</td>\n",
       "      <td>1.000000</td>\n",
       "      <td>1.000000</td>\n",
       "      <td>0.000000</td>\n",
       "    </tr>\n",
       "    <tr>\n",
       "      <th>max</th>\n",
       "      <td>5.703106e+17</td>\n",
       "      <td>1.000000</td>\n",
       "      <td>1.000000</td>\n",
       "      <td>44.000000</td>\n",
       "    </tr>\n",
       "  </tbody>\n",
       "</table>\n",
       "</div>"
      ],
      "text/plain": [
       "           tweet_id  airline_sentiment_confidence  negativereason_confidence  \\\n",
       "count  1.154100e+04                  11541.000000                9508.000000   \n",
       "mean   5.692275e+17                      0.920809                   0.706371   \n",
       "std    7.712728e+14                      0.149579                   0.269716   \n",
       "min    5.675900e+17                      0.335600                   0.000000   \n",
       "25%    5.685838e+17                      1.000000                   0.637175   \n",
       "50%    5.694980e+17                      1.000000                   0.677800   \n",
       "75%    5.698796e+17                      1.000000                   1.000000   \n",
       "max    5.703106e+17                      1.000000                   1.000000   \n",
       "\n",
       "       retweet_count  \n",
       "count   11541.000000  \n",
       "mean        0.088467  \n",
       "std         0.767555  \n",
       "min         0.000000  \n",
       "25%         0.000000  \n",
       "50%         0.000000  \n",
       "75%         0.000000  \n",
       "max        44.000000  "
      ]
     },
     "execution_count": 8,
     "metadata": {},
     "output_type": "execute_result"
    }
   ],
   "source": [
    "filtered_data.describe()"
   ]
  },
  {
   "cell_type": "markdown",
   "metadata": {},
   "source": [
    "### Ceaning the Data\n",
    "\n",
    "The data is now being reshuffled, that way the sentiments can be easily distributed between train and test sets. The data then gets cleaned, where we only need the text and airline_sentiment column. \n",
    "\n",
    "With stopwards potentially being in the text, it would be better to just remove the stopwords because they do not add any value into determining the airline sentiment. [Reference](https://stackoverflow.com/questions/29523254/python-remove-stop-words-from-pandas-dataframe)\n",
    "\n",
    "I also think removing the tags that include differnet airlines can help to make the determining of the airlinen sentiment better. [Reference](https://www.kite.com/python/answers/how-to-use-re.sub()-in-python#:~:text=sub()%20to%20replace%20patterns,pattern%20in%20string%20with%20repl%20.)"
   ]
  },
  {
   "cell_type": "code",
   "execution_count": 9,
   "metadata": {},
   "outputs": [],
   "source": [
    "def remove_tags(text):\n",
    "    return re.sub(r'@\\w+', '', text)"
   ]
  },
  {
   "cell_type": "code",
   "execution_count": 10,
   "metadata": {},
   "outputs": [],
   "source": [
    "stop = stopwords.words('english')\n",
    "allowed_words = [\"not\", \"no\"]\n",
    "\n",
    "# shuffle words\n",
    "filtered_data = filtered_data.reindex(np.random.permutation(filtered_data.index))\n",
    "# retreive only text and airline_sentiment\n",
    "filtered_data = filtered_data[['text', 'airline_sentiment']]\n",
    "# Remove stopwords\n",
    "filtered_data.text = filtered_data.text.apply(lambda x: ' '.join([word for word in x.split() if word not in (stop) or word in allowed_words]))\n",
    "# Remove @ tags in the text.\n",
    "filtered_data.text = filtered_data.text.apply(remove_tags)"
   ]
  },
  {
   "cell_type": "markdown",
   "metadata": {},
   "source": [
    "### Check for any null values"
   ]
  },
  {
   "cell_type": "code",
   "execution_count": 11,
   "metadata": {
    "scrolled": true
   },
   "outputs": [
    {
     "data": {
      "text/plain": [
       "text                 False\n",
       "airline_sentiment    False\n",
       "dtype: bool"
      ]
     },
     "execution_count": 11,
     "metadata": {},
     "output_type": "execute_result"
    }
   ],
   "source": [
    "filtered_data.isnull().any()"
   ]
  },
  {
   "cell_type": "markdown",
   "metadata": {},
   "source": [
    "### Retrieving Train Test Split\n",
    "\n",
    "Using sklearn I will split the training and test values where the training value is 80% and test value would be 20%"
   ]
  },
  {
   "cell_type": "code",
   "execution_count": 12,
   "metadata": {
    "scrolled": true
   },
   "outputs": [
    {
     "name": "stdout",
     "output_type": "stream",
     "text": [
      "Number of Training Data: 9232\n",
      "Number of Test Data: 2309\n"
     ]
    }
   ],
   "source": [
    "X = filtered_data.text\n",
    "y = filtered_data.airline_sentiment\n",
    "\n",
    "X_train, X_test, y_train, y_test = train_test_split(X, y, test_size=0.2, random_state=12345)\n",
    "\n",
    "print('Number of Training Data:', X_train.shape[0])\n",
    "print('Number of Test Data:', X_test.shape[0])"
   ]
  },
  {
   "cell_type": "markdown",
   "metadata": {},
   "source": [
    "### Words to Binary\n",
    "\n",
    "For the text to be used as an input for the model, a conversion of the words into integer binary values needs to be done.\n",
    "\n",
    "I apply a tokenizer that will filter all special cases and convert all characters to lowercase, and split each word after a space. [Tokenizer Reference](https://www.tensorflow.org/api_docs/python/tf/keras/preprocessing/text/Tokenizer)\n",
    "\n",
    "I check if it works but apply it onto my training set"
   ]
  },
  {
   "cell_type": "code",
   "execution_count": 13,
   "metadata": {},
   "outputs": [
    {
     "name": "stdout",
     "output_type": "stream",
     "text": [
      "10 most common words :  [('i', 3200), ('flight', 2657), ('not', 1141), ('no', 1098), ('get', 880), ('cancelled', 774), ('thanks', 742), ('service', 739), ('2', 639), ('you', 633)]\n"
     ]
    }
   ],
   "source": [
    "tokenizer = Tokenizer(\n",
    "    num_words=10000,\n",
    "    filters='!\"#$%&()*+,-./:;<=>?@[\\\\]^_`{|}~\\t\\n',\n",
    "    lower=True,\n",
    "    split=' ',\n",
    "    char_level=False,\n",
    "    oov_token=None\n",
    ")\n",
    "\n",
    "tokenizer.fit_on_texts(X_train)\n",
    "print('10 most common words : ', collections.Counter(tokenizer.word_counts).most_common(10))"
   ]
  },
  {
   "cell_type": "markdown",
   "metadata": {},
   "source": [
    "I next convert the text to check if a word is contained in a text post or not,  where I used texts_to_matrix to check and output the binary matrix.[Texts to matrix Reference](https://www.tensorflow.org/api_docs/python/tf/keras/preprocessing/text/Tokenizer)"
   ]
  },
  {
   "cell_type": "code",
   "execution_count": 14,
   "metadata": {},
   "outputs": [],
   "source": [
    "X_train_matrix = tokenizer.texts_to_matrix(X_train, mode='binary')\n",
    "X_test_matrix = tokenizer.texts_to_matrix(X_test, mode='binary')"
   ]
  },
  {
   "cell_type": "markdown",
   "metadata": {},
   "source": [
    "### Classes to numbers\n",
    "Converting the classes to numbers, that are one-hot-encoded, I used to_categorical. [to_categorical Reference](https://www.tensorflow.org/api_docs/python/tf/keras/utils/to_categorical)"
   ]
  },
  {
   "cell_type": "code",
   "execution_count": 15,
   "metadata": {},
   "outputs": [],
   "source": [
    "le = LabelEncoder()\n",
    "y_train_le = le.fit_transform(y_train)\n",
    "y_test_le = le.transform(y_test)\n",
    "y_train_categorise = to_categorical(y_train_le)\n",
    "y_test_categorise = to_categorical(y_test_le)"
   ]
  },
  {
   "cell_type": "markdown",
   "metadata": {},
   "source": [
    "### Retrieve validation set\n",
    "Validation set with be 20% of the Training set. So using train_test_split i split the training data"
   ]
  },
  {
   "cell_type": "code",
   "execution_count": 16,
   "metadata": {},
   "outputs": [
    {
     "name": "stdout",
     "output_type": "stream",
     "text": [
      "Validation:  (1847, 10000)\n"
     ]
    }
   ],
   "source": [
    "X_train_second, X_validation, y_train_second, y_validation = train_test_split(X_train_matrix, y_train_categorise, test_size=0.2, random_state=12345)\n",
    "\n",
    "print('Validation: ', X_validation.shape)"
   ]
  },
  {
   "cell_type": "markdown",
   "metadata": {},
   "source": [
    "## Methodology"
   ]
  },
  {
   "cell_type": "markdown",
   "metadata": {},
   "source": [
    "### Functions"
   ]
  },
  {
   "cell_type": "code",
   "execution_count": 17,
   "metadata": {},
   "outputs": [],
   "source": [
    "def plot_loss_graph(loss, val_loss):\n",
    "    ''' validation and training loss '''\n",
    "    plt.clf()\n",
    "    epoch = range(1, len(loss)+1)\n",
    "    plt.plot(epoch, loss, 'bo', label=\"Training Loss\")\n",
    "    plt.plot(epoch, val_loss, 'b', label=\"Validation Loss\")\n",
    "    plt.title(\"Training and Validation Loss\")\n",
    "    plt.xlabel('Epoch')\n",
    "    plt.ylabel('Loss')\n",
    "    plt.legend()\n",
    "    plt.show()\n",
    "    \n",
    "def plot_accuracy_graph(acc, val_acc):\n",
    "    ''' validation and training accuracy '''\n",
    "    plt.clf()\n",
    "    epoch = range(1, len(acc) +1)\n",
    "    plt.plot(epoch, acc, 'bo', label=\"Training Accuracy\")\n",
    "    plt.plot(epoch, val_acc, 'b', label=\"Validation Accuracy\")\n",
    "    plt.title(\"Training and Validation Accuracy\")\n",
    "    plt.xlabel('Epoch')\n",
    "    plt.ylabel('Accuracy')\n",
    "    plt.legend()\n",
    "    plt.show()\n",
    "    \n",
    "def optimal_epoch(model_hist_dict):\n",
    "    ''' retrieve optimal epoch where validation loss is at its least'''\n",
    "    min_epoch = np.argmin(model_hist_dict['val_loss']) + 1\n",
    "    print(\"Minimum validation loss reached in epoch {}\".format(min_epoch))\n",
    "    return min_epoch\n",
    "\n",
    "def test_model_with_optimal_epoch(model, X_train, y_train, X_test, y_test, epoch):\n",
    "    model.fit(X_train,\n",
    "              y_train,\n",
    "              epochs=epoch)\n",
    "    results = model.evaluate(X_test,y_test)\n",
    "    print('Test accuracy: {0:.2f}%'.format(results[1]*100))\n",
    "    return results"
   ]
  },
  {
   "cell_type": "markdown",
   "metadata": {},
   "source": [
    "### Baseline Model\n",
    "\n",
    "A Baseline model should be developed with statistical power. For example, IMDB model with accuracy greater than 50% will be considered to have statistical power.\n",
    "\n",
    "In the first model, I will attempt to have an accuracy better than 50%. I will be using Keras, to create the base model. I will have binary_crossentropy be the loss function and last-layer activation be sigmoid to solve the problem type binary classification."
   ]
  },
  {
   "cell_type": "markdown",
   "metadata": {},
   "source": [
    "#### Build"
   ]
  },
  {
   "cell_type": "code",
   "execution_count": 18,
   "metadata": {
    "scrolled": false
   },
   "outputs": [
    {
     "name": "stdout",
     "output_type": "stream",
     "text": [
      "Model: \"sequential\"\n",
      "_________________________________________________________________\n",
      " Layer (type)                Output Shape              Param #   \n",
      "=================================================================\n",
      " flatten (Flatten)           (None, 10000)             0         \n",
      "                                                                 \n",
      " dense (Dense)               (None, 4)                 40004     \n",
      "                                                                 \n",
      " dense_1 (Dense)             (None, 2)                 10        \n",
      "                                                                 \n",
      "=================================================================\n",
      "Total params: 40,014\n",
      "Trainable params: 40,014\n",
      "Non-trainable params: 0\n",
      "_________________________________________________________________\n"
     ]
    }
   ],
   "source": [
    "base_model = models.Sequential([\n",
    "    layers.Flatten(input_shape=(10000,)),\n",
    "    layers.Dense(4, activation='relu'),\n",
    "    layers.Dense(2, activation='sigmoid')\n",
    "])\n",
    "base_model.summary()\n",
    "\n",
    "base_model.compile(\n",
    "    optimizer='rmsprop',\n",
    "    loss='binary_crossentropy',\n",
    "    metrics=['accuracy']\n",
    ")"
   ]
  },
  {
   "cell_type": "markdown",
   "metadata": {},
   "source": [
    "#### Train"
   ]
  },
  {
   "cell_type": "code",
   "execution_count": 19,
   "metadata": {},
   "outputs": [
    {
     "name": "stdout",
     "output_type": "stream",
     "text": [
      "Epoch 1/10\n",
      "231/231 [==============================] - 1s 2ms/step - loss: 0.4984 - accuracy: 0.7942 - val_loss: 0.4037 - val_accuracy: 0.7883\n",
      "Epoch 2/10\n",
      "231/231 [==============================] - 0s 2ms/step - loss: 0.3518 - accuracy: 0.7943 - val_loss: 0.3488 - val_accuracy: 0.7883\n",
      "Epoch 3/10\n",
      "231/231 [==============================] - 0s 2ms/step - loss: 0.3023 - accuracy: 0.8538 - val_loss: 0.3204 - val_accuracy: 0.8674\n",
      "Epoch 4/10\n",
      "231/231 [==============================] - 0s 2ms/step - loss: 0.2717 - accuracy: 0.8997 - val_loss: 0.3046 - val_accuracy: 0.8836\n",
      "Epoch 5/10\n",
      "231/231 [==============================] - 0s 2ms/step - loss: 0.2495 - accuracy: 0.9139 - val_loss: 0.2981 - val_accuracy: 0.8847\n",
      "Epoch 6/10\n",
      "231/231 [==============================] - 0s 2ms/step - loss: 0.2330 - accuracy: 0.9220 - val_loss: 0.2935 - val_accuracy: 0.8896\n",
      "Epoch 7/10\n",
      "231/231 [==============================] - 0s 2ms/step - loss: 0.2200 - accuracy: 0.9267 - val_loss: 0.2872 - val_accuracy: 0.8928\n",
      "Epoch 8/10\n",
      "231/231 [==============================] - 0s 2ms/step - loss: 0.2088 - accuracy: 0.9307 - val_loss: 0.2862 - val_accuracy: 0.8955\n",
      "Epoch 9/10\n",
      "231/231 [==============================] - 0s 2ms/step - loss: 0.1999 - accuracy: 0.9311 - val_loss: 0.2857 - val_accuracy: 0.8982\n",
      "Epoch 10/10\n",
      "231/231 [==============================] - 0s 2ms/step - loss: 0.1920 - accuracy: 0.9338 - val_loss: 0.2845 - val_accuracy: 0.8966\n"
     ]
    }
   ],
   "source": [
    "base_history = base_model.fit(\n",
    "    X_train_second,\n",
    "    y_train_second,\n",
    "    epochs=10,\n",
    "    validation_data=(X_validation, y_validation)\n",
    ")"
   ]
  },
  {
   "cell_type": "code",
   "execution_count": 20,
   "metadata": {},
   "outputs": [
    {
     "name": "stdout",
     "output_type": "stream",
     "text": [
      "Minimum validation loss reached in epoch 10\n"
     ]
    }
   ],
   "source": [
    "base_history_dict = base_history.history\n",
    "base_min_epoch = optimal_epoch(base_history_dict)"
   ]
  },
  {
   "cell_type": "code",
   "execution_count": 21,
   "metadata": {
    "scrolled": true
   },
   "outputs": [
    {
     "data": {
      "image/png": "[encoded data removed]",
      "text/plain": [
       "<Figure size 432x288 with 1 Axes>"
      ]
     },
     "metadata": {
      "needs_background": "light"
     },
     "output_type": "display_data"
    }
   ],
   "source": [
    "plot_loss_graph(base_history_dict['loss'], base_history_dict['val_loss'])"
   ]
  },
  {
   "cell_type": "code",
   "execution_count": 22,
   "metadata": {
    "scrolled": true
   },
   "outputs": [
    {
     "data": {
      "image/png": "[encoded data removed]",
      "text/plain": [
       "<Figure size 432x288 with 1 Axes>"
      ]
     },
     "metadata": {
      "needs_background": "light"
     },
     "output_type": "display_data"
    }
   ],
   "source": [
    "plot_accuracy_graph(base_history_dict['accuracy'], base_history_dict['val_accuracy'])"
   ]
  },
  {
   "cell_type": "code",
   "execution_count": 23,
   "metadata": {
    "scrolled": true
   },
   "outputs": [
    {
     "name": "stdout",
     "output_type": "stream",
     "text": [
      "73/73 [==============================] - 0s 911us/step - loss: 0.2755 - accuracy: 0.9030\n"
     ]
    },
    {
     "data": {
      "text/plain": [
       "[0.2754655182361603, 0.9029883146286011]"
      ]
     },
     "execution_count": 23,
     "metadata": {},
     "output_type": "execute_result"
    }
   ],
   "source": [
    "base_model.evaluate(X_test_matrix, y_test_categorise)"
   ]
  },
  {
   "cell_type": "markdown",
   "metadata": {},
   "source": [
    "With this it can be seen that the base model has an accuracy of 90%, and from that I can say that the current base model has achieved statistical power that is better than baseline."
   ]
  },
  {
   "cell_type": "markdown",
   "metadata": {},
   "source": [
    "### Overfitting Model\n",
    "\n",
    "Now we create an overfitting model, and to do this I increased the number of layers, increase the layers size and the epoch value"
   ]
  },
  {
   "cell_type": "markdown",
   "metadata": {},
   "source": [
    "#### Build"
   ]
  },
  {
   "cell_type": "code",
   "execution_count": 24,
   "metadata": {
    "scrolled": true
   },
   "outputs": [
    {
     "name": "stdout",
     "output_type": "stream",
     "text": [
      "Model: \"sequential_1\"\n",
      "_________________________________________________________________\n",
      " Layer (type)                Output Shape              Param #   \n",
      "=================================================================\n",
      " flatten_1 (Flatten)         (None, 10000)             0         \n",
      "                                                                 \n",
      " dense_2 (Dense)             (None, 124)               1240124   \n",
      "                                                                 \n",
      " dense_3 (Dense)             (None, 124)               15500     \n",
      "                                                                 \n",
      " dense_4 (Dense)             (None, 64)                8000      \n",
      "                                                                 \n",
      " dense_5 (Dense)             (None, 64)                4160      \n",
      "                                                                 \n",
      " dense_6 (Dense)             (None, 48)                3120      \n",
      "                                                                 \n",
      " dense_7 (Dense)             (None, 16)                784       \n",
      "                                                                 \n",
      " dense_8 (Dense)             (None, 8)                 136       \n",
      "                                                                 \n",
      " dense_9 (Dense)             (None, 4)                 36        \n",
      "                                                                 \n",
      " dense_10 (Dense)            (None, 2)                 10        \n",
      "                                                                 \n",
      "=================================================================\n",
      "Total params: 1,271,870\n",
      "Trainable params: 1,271,870\n",
      "Non-trainable params: 0\n",
      "_________________________________________________________________\n"
     ]
    }
   ],
   "source": [
    "overfitting_model = models.Sequential([\n",
    "    layers.Flatten(input_shape=(10000,)),\n",
    "    layers.Dense(124, activation='relu'),\n",
    "    layers.Dense(124, activation='relu'),\n",
    "    layers.Dense(64, activation='relu'),\n",
    "    layers.Dense(64, activation='relu'),\n",
    "    layers.Dense(48, activation='relu'),\n",
    "    layers.Dense(16, activation='relu'),  \n",
    "    layers.Dense(8, activation='relu'),\n",
    "    layers.Dense(4, activation='relu'),  \n",
    "    layers.Dense(2, activation='sigmoid')\n",
    "])\n",
    "\n",
    "overfitting_model.summary()\n",
    "\n",
    "overfitting_model.compile(\n",
    "    optimizer='rmsprop',\n",
    "    loss='binary_crossentropy',\n",
    "    metrics=['accuracy']\n",
    ")"
   ]
  },
  {
   "cell_type": "markdown",
   "metadata": {},
   "source": [
    "#### Train"
   ]
  },
  {
   "cell_type": "code",
   "execution_count": 25,
   "metadata": {},
   "outputs": [
    {
     "name": "stdout",
     "output_type": "stream",
     "text": [
      "Epoch 1/15\n",
      "231/231 [==============================] - 3s 9ms/step - loss: 0.5187 - accuracy: 0.8116 - val_loss: 0.3386 - val_accuracy: 0.8598\n",
      "Epoch 2/15\n",
      "231/231 [==============================] - 2s 9ms/step - loss: 0.2665 - accuracy: 0.9200 - val_loss: 0.2981 - val_accuracy: 0.8912\n",
      "Epoch 3/15\n",
      "231/231 [==============================] - 2s 9ms/step - loss: 0.1939 - accuracy: 0.9434 - val_loss: 0.2697 - val_accuracy: 0.9020\n",
      "Epoch 4/15\n",
      "231/231 [==============================] - 2s 9ms/step - loss: 0.1238 - accuracy: 0.9653 - val_loss: 0.2959 - val_accuracy: 0.9117\n",
      "Epoch 5/15\n",
      "231/231 [==============================] - 2s 9ms/step - loss: 0.0874 - accuracy: 0.9725 - val_loss: 0.2997 - val_accuracy: 0.8966\n",
      "Epoch 6/15\n",
      "231/231 [==============================] - 2s 9ms/step - loss: 0.0699 - accuracy: 0.9763 - val_loss: 0.3248 - val_accuracy: 0.9080\n",
      "Epoch 7/15\n",
      "231/231 [==============================] - 2s 9ms/step - loss: 0.0581 - accuracy: 0.9819 - val_loss: 0.4139 - val_accuracy: 0.9107\n",
      "Epoch 8/15\n",
      "231/231 [==============================] - 2s 9ms/step - loss: 0.0528 - accuracy: 0.9827 - val_loss: 0.3980 - val_accuracy: 0.8966\n",
      "Epoch 9/15\n",
      "231/231 [==============================] - 2s 9ms/step - loss: 0.0380 - accuracy: 0.9882 - val_loss: 0.4486 - val_accuracy: 0.8950\n",
      "Epoch 10/15\n",
      "231/231 [==============================] - 2s 9ms/step - loss: 0.0277 - accuracy: 0.9915 - val_loss: 0.8371 - val_accuracy: 0.8766\n",
      "Epoch 11/15\n",
      "231/231 [==============================] - 2s 9ms/step - loss: 0.0228 - accuracy: 0.9946 - val_loss: 0.6719 - val_accuracy: 0.9047\n",
      "Epoch 12/15\n",
      "231/231 [==============================] - 2s 9ms/step - loss: 0.0168 - accuracy: 0.9946 - val_loss: 0.6355 - val_accuracy: 0.9053\n",
      "Epoch 13/15\n",
      "231/231 [==============================] - 2s 9ms/step - loss: 0.0185 - accuracy: 0.9957 - val_loss: 0.6171 - val_accuracy: 0.9101\n",
      "Epoch 14/15\n",
      "231/231 [==============================] - 2s 9ms/step - loss: 0.0197 - accuracy: 0.9955 - val_loss: 1.0622 - val_accuracy: 0.9053\n",
      "Epoch 15/15\n",
      "231/231 [==============================] - 2s 9ms/step - loss: 0.0117 - accuracy: 0.9976 - val_loss: 1.0131 - val_accuracy: 0.9080\n"
     ]
    }
   ],
   "source": [
    "overfitting_history = overfitting_model.fit(\n",
    "    X_train_second,\n",
    "    y_train_second,\n",
    "    epochs=15,\n",
    "    validation_data=(X_validation, y_validation)\n",
    ")"
   ]
  },
  {
   "cell_type": "code",
   "execution_count": 26,
   "metadata": {},
   "outputs": [
    {
     "data": {
      "text/plain": [
       "dict_keys(['loss', 'accuracy', 'val_loss', 'val_accuracy'])"
      ]
     },
     "execution_count": 26,
     "metadata": {},
     "output_type": "execute_result"
    }
   ],
   "source": [
    "overfitting_history_dict = overfitting_history.history\n",
    "overfitting_history_dict.keys()"
   ]
  },
  {
   "cell_type": "code",
   "execution_count": 27,
   "metadata": {},
   "outputs": [
    {
     "data": {
      "image/png": "[encoded data removed]",
      "text/plain": [
       "<Figure size 432x288 with 1 Axes>"
      ]
     },
     "metadata": {
      "needs_background": "light"
     },
     "output_type": "display_data"
    }
   ],
   "source": [
    "plot_loss_graph(overfitting_history_dict['loss'], overfitting_history_dict['val_loss'])"
   ]
  },
  {
   "cell_type": "code",
   "execution_count": 28,
   "metadata": {
    "scrolled": false
   },
   "outputs": [
    {
     "data": {
      "image/png": "[encoded data removed]",
      "text/plain": [
       "<Figure size 432x288 with 1 Axes>"
      ]
     },
     "metadata": {
      "needs_background": "light"
     },
     "output_type": "display_data"
    }
   ],
   "source": [
    "plot_accuracy_graph(overfitting_history_dict['accuracy'], overfitting_history_dict['val_accuracy'])"
   ]
  },
  {
   "cell_type": "markdown",
   "metadata": {},
   "source": [
    "It can be seen that the model overfits by looking at the graph comparing Losses where the validation loss increases and validation accuracy decreases\n"
   ]
  },
  {
   "cell_type": "markdown",
   "metadata": {},
   "source": [
    "### Developing a well performing model\n",
    "\n",
    "Currently I have, 2 models where 1 is baseline and the other model overfit.\n",
    "Now I will try to achieve a model that can have its best performance, in an attempt to achieve a model that is well performing, I have different options that can deal with overfitting and can help with obtaining an optimal configuration.\n",
    "\n",
    "1) Apply regularization \n",
    "\n",
    "2) use Dropout layers\n",
    "\n",
    "3) Reduce the network layers or reduce the number of elements within hidden layers\n",
    "\n",
    "The purpose would be to achieve a high accuracy value and find a good fit in a model"
   ]
  },
  {
   "cell_type": "markdown",
   "metadata": {},
   "source": [
    "I attempted reducing the number of layers and the epoch size"
   ]
  },
  {
   "cell_type": "code",
   "execution_count": 29,
   "metadata": {
    "scrolled": true
   },
   "outputs": [
    {
     "name": "stdout",
     "output_type": "stream",
     "text": [
      "Epoch 1/10\n",
      "231/231 [==============================] - 1s 5ms/step - loss: 0.3676 - accuracy: 0.8349 - val_loss: 0.3123 - val_accuracy: 0.8890\n",
      "Epoch 2/10\n",
      "231/231 [==============================] - 1s 4ms/step - loss: 0.2593 - accuracy: 0.9177 - val_loss: 0.3093 - val_accuracy: 0.8917\n",
      "Epoch 3/10\n",
      "231/231 [==============================] - 1s 4ms/step - loss: 0.2265 - accuracy: 0.9318 - val_loss: 0.3122 - val_accuracy: 0.8901\n",
      "Epoch 4/10\n",
      "231/231 [==============================] - 1s 4ms/step - loss: 0.1996 - accuracy: 0.9430 - val_loss: 0.3061 - val_accuracy: 0.8885\n",
      "Epoch 5/10\n",
      "231/231 [==============================] - 1s 4ms/step - loss: 0.1755 - accuracy: 0.9515 - val_loss: 0.3029 - val_accuracy: 0.8863\n",
      "Epoch 6/10\n",
      "231/231 [==============================] - 1s 4ms/step - loss: 0.1539 - accuracy: 0.9598 - val_loss: 0.3299 - val_accuracy: 0.8896\n",
      "Epoch 7/10\n",
      "231/231 [==============================] - 1s 4ms/step - loss: 0.1346 - accuracy: 0.9660 - val_loss: 0.3291 - val_accuracy: 0.8890\n",
      "Epoch 8/10\n",
      "231/231 [==============================] - 1s 4ms/step - loss: 0.1181 - accuracy: 0.9710 - val_loss: 0.3630 - val_accuracy: 0.8896\n",
      "Epoch 9/10\n",
      "231/231 [==============================] - 1s 4ms/step - loss: 0.1063 - accuracy: 0.9729 - val_loss: 0.3818 - val_accuracy: 0.8906\n",
      "Epoch 10/10\n",
      "231/231 [==============================] - 1s 4ms/step - loss: 0.0973 - accuracy: 0.9751 - val_loss: 0.3417 - val_accuracy: 0.8923\n"
     ]
    }
   ],
   "source": [
    "model_1 = models.Sequential([\n",
    "    layers.Flatten(input_shape=(10000,)),\n",
    "    layers.Dense(46, activation='relu'),\n",
    "    layers.Dense(16, activation='relu'),\n",
    "    layers.Dense(4, activation='relu'),\n",
    "    layers.Dense(2, activation='sigmoid')\n",
    "])\n",
    "\n",
    "model_1.compile(\n",
    "    optimizer='rmsprop',\n",
    "    loss='binary_crossentropy',\n",
    "    metrics=['accuracy']\n",
    ")\n",
    "\n",
    "model1_history = model_1.fit(\n",
    "    X_train_second,\n",
    "    y_train_second,\n",
    "    epochs=10,\n",
    "    validation_data=(X_validation, y_validation)\n",
    ")"
   ]
  },
  {
   "cell_type": "code",
   "execution_count": 30,
   "metadata": {},
   "outputs": [
    {
     "name": "stdout",
     "output_type": "stream",
     "text": [
      "Minimum validation loss reached in epoch 5\n"
     ]
    }
   ],
   "source": [
    "model1_history_dict = model1_history.history\n",
    "model1_min_epoch = optimal_epoch(model1_history_dict)"
   ]
  },
  {
   "cell_type": "code",
   "execution_count": 31,
   "metadata": {},
   "outputs": [
    {
     "data": {
      "image/png": "[encoded data removed]",
      "text/plain": [
       "<Figure size 432x288 with 1 Axes>"
      ]
     },
     "metadata": {
      "needs_background": "light"
     },
     "output_type": "display_data"
    }
   ],
   "source": [
    "plot_loss_graph(model1_history_dict['loss'], model1_history_dict['val_loss'])"
   ]
  },
  {
   "cell_type": "code",
   "execution_count": 32,
   "metadata": {},
   "outputs": [
    {
     "data": {
      "image/png": "[encoded data removed]",
      "text/plain": [
       "<Figure size 432x288 with 1 Axes>"
      ]
     },
     "metadata": {
      "needs_background": "light"
     },
     "output_type": "display_data"
    }
   ],
   "source": [
    "plot_accuracy_graph(model1_history_dict['accuracy'], model1_history_dict['val_accuracy'])"
   ]
  },
  {
   "cell_type": "markdown",
   "metadata": {},
   "source": [
    "It can be seen that it is still overfitting , now i can try adding drop out layers and also reducing the epoch size from 10 to 8"
   ]
  },
  {
   "cell_type": "code",
   "execution_count": 33,
   "metadata": {},
   "outputs": [
    {
     "name": "stdout",
     "output_type": "stream",
     "text": [
      "Epoch 1/10\n",
      "231/231 [==============================] - 1s 2ms/step - loss: 0.5424 - accuracy: 0.8008 - val_loss: 0.4295 - val_accuracy: 0.8121\n",
      "Epoch 2/10\n",
      "231/231 [==============================] - 0s 2ms/step - loss: 0.4181 - accuracy: 0.8445 - val_loss: 0.3502 - val_accuracy: 0.8565\n",
      "Epoch 3/10\n",
      "231/231 [==============================] - 0s 2ms/step - loss: 0.3588 - accuracy: 0.8729 - val_loss: 0.3104 - val_accuracy: 0.8733\n",
      "Epoch 4/10\n",
      "231/231 [==============================] - 0s 2ms/step - loss: 0.3251 - accuracy: 0.8867 - val_loss: 0.2886 - val_accuracy: 0.8863\n",
      "Epoch 5/10\n",
      "231/231 [==============================] - 0s 2ms/step - loss: 0.2968 - accuracy: 0.8932 - val_loss: 0.2746 - val_accuracy: 0.8960\n",
      "Epoch 6/10\n",
      "231/231 [==============================] - 0s 2ms/step - loss: 0.2808 - accuracy: 0.8949 - val_loss: 0.2669 - val_accuracy: 0.8998\n",
      "Epoch 7/10\n",
      "231/231 [==============================] - 0s 2ms/step - loss: 0.2728 - accuracy: 0.9002 - val_loss: 0.2625 - val_accuracy: 0.9009\n",
      "Epoch 8/10\n",
      "231/231 [==============================] - 0s 2ms/step - loss: 0.2687 - accuracy: 0.9060 - val_loss: 0.2593 - val_accuracy: 0.9015\n",
      "Epoch 9/10\n",
      "231/231 [==============================] - 0s 2ms/step - loss: 0.2491 - accuracy: 0.9129 - val_loss: 0.2571 - val_accuracy: 0.9036\n",
      "Epoch 10/10\n",
      "231/231 [==============================] - 0s 2ms/step - loss: 0.2461 - accuracy: 0.9128 - val_loss: 0.2553 - val_accuracy: 0.9047\n"
     ]
    }
   ],
   "source": [
    "model_2 = models.Sequential([\n",
    "    layers.Flatten(input_shape=(10000,)),\n",
    "    layers.Dense(4, activation='relu'),\n",
    "    layers.Dropout(0.4),\n",
    "    layers.Dense(2, activation='sigmoid')\n",
    "])\n",
    "\n",
    "model_2.compile(\n",
    "    optimizer='rmsprop',\n",
    "    loss='binary_crossentropy',\n",
    "    metrics=['accuracy']\n",
    ")\n",
    "\n",
    "model2_history = model_2.fit(\n",
    "    X_train_second,\n",
    "    y_train_second,\n",
    "    epochs=10,\n",
    "    validation_data=(X_validation, y_validation)\n",
    ")"
   ]
  },
  {
   "cell_type": "code",
   "execution_count": 34,
   "metadata": {
    "scrolled": false
   },
   "outputs": [
    {
     "name": "stdout",
     "output_type": "stream",
     "text": [
      "Minimum validation loss reached in epoch 10\n"
     ]
    }
   ],
   "source": [
    "model2_history_dict = model2_history.history\n",
    "model2_min_epoch = optimal_epoch(model2_history_dict)"
   ]
  },
  {
   "cell_type": "code",
   "execution_count": 35,
   "metadata": {},
   "outputs": [
    {
     "data": {
      "image/png": "[encoded data removed]",
      "text/plain": [
       "<Figure size 432x288 with 1 Axes>"
      ]
     },
     "metadata": {
      "needs_background": "light"
     },
     "output_type": "display_data"
    }
   ],
   "source": [
    "plot_loss_graph(model2_history_dict['loss'], model2_history_dict['val_loss'])"
   ]
  },
  {
   "cell_type": "code",
   "execution_count": 36,
   "metadata": {},
   "outputs": [
    {
     "data": {
      "image/png": "[encoded data removed]",
      "text/plain": [
       "<Figure size 432x288 with 1 Axes>"
      ]
     },
     "metadata": {
      "needs_background": "light"
     },
     "output_type": "display_data"
    }
   ],
   "source": [
    "plot_accuracy_graph(model2_history_dict['accuracy'], model2_history_dict['val_accuracy'])"
   ]
  },
  {
   "cell_type": "code",
   "execution_count": 37,
   "metadata": {},
   "outputs": [
    {
     "name": "stdout",
     "output_type": "stream",
     "text": [
      "73/73 [==============================] - 0s 848us/step - loss: 0.2375 - accuracy: 0.9125\n"
     ]
    },
    {
     "data": {
      "text/plain": [
       "[0.23753297328948975, 0.9125162363052368]"
      ]
     },
     "execution_count": 37,
     "metadata": {},
     "output_type": "execute_result"
    }
   ],
   "source": [
    "model_2.evaluate(X_test_matrix, y_test_categorise)"
   ]
  },
  {
   "cell_type": "markdown",
   "metadata": {},
   "source": [
    "Minimum epoch values is still 8.\n",
    "\n",
    "It can be seen that there is an improvement comparing model1 and model2. \n",
    "As I attempt to try regularization in the next model(model3).\n",
    "\n",
    "I added regularization, with L1 regularizers in one of the layers."
   ]
  },
  {
   "cell_type": "code",
   "execution_count": 38,
   "metadata": {
    "scrolled": true
   },
   "outputs": [
    {
     "name": "stdout",
     "output_type": "stream",
     "text": [
      "Epoch 1/10\n",
      "231/231 [==============================] - 1s 2ms/step - loss: 0.5542 - accuracy: 0.7915 - val_loss: 0.4572 - val_accuracy: 0.7883\n",
      "Epoch 2/10\n",
      "231/231 [==============================] - 0s 2ms/step - loss: 0.4320 - accuracy: 0.8016 - val_loss: 0.3888 - val_accuracy: 0.8002\n",
      "Epoch 3/10\n",
      "231/231 [==============================] - 0s 2ms/step - loss: 0.3815 - accuracy: 0.8452 - val_loss: 0.3518 - val_accuracy: 0.8517\n",
      "Epoch 4/10\n",
      "231/231 [==============================] - 0s 2ms/step - loss: 0.3457 - accuracy: 0.8761 - val_loss: 0.3272 - val_accuracy: 0.8749\n",
      "Epoch 5/10\n",
      "231/231 [==============================] - 0s 2ms/step - loss: 0.3275 - accuracy: 0.8729 - val_loss: 0.3123 - val_accuracy: 0.8879\n",
      "Epoch 6/10\n",
      "231/231 [==============================] - 0s 2ms/step - loss: 0.3067 - accuracy: 0.8835 - val_loss: 0.3005 - val_accuracy: 0.8977\n",
      "Epoch 7/10\n",
      "231/231 [==============================] - 0s 2ms/step - loss: 0.2932 - accuracy: 0.8856 - val_loss: 0.2932 - val_accuracy: 0.8993\n",
      "Epoch 8/10\n",
      "231/231 [==============================] - 0s 2ms/step - loss: 0.2877 - accuracy: 0.8823 - val_loss: 0.2894 - val_accuracy: 0.8998\n",
      "Epoch 9/10\n",
      "231/231 [==============================] - 0s 2ms/step - loss: 0.2796 - accuracy: 0.8856 - val_loss: 0.2859 - val_accuracy: 0.9036\n",
      "Epoch 10/10\n",
      "231/231 [==============================] - 0s 2ms/step - loss: 0.2704 - accuracy: 0.8887 - val_loss: 0.2830 - val_accuracy: 0.9015\n"
     ]
    }
   ],
   "source": [
    "model_3 = models.Sequential([\n",
    "    layers.Flatten(input_shape=(10000,)),\n",
    "    layers.Dense(4, activity_regularizer=regularizers.L1(0.01), activation='relu'),\n",
    "    layers.Dropout(0.3),\n",
    "    layers.Dense(2, activation='sigmoid')\n",
    "])\n",
    "\n",
    "model_3.compile(\n",
    "    optimizer='rmsprop',\n",
    "    loss='binary_crossentropy',\n",
    "    metrics=['accuracy']\n",
    ")\n",
    "\n",
    "model3_history = model_3.fit(\n",
    "    X_train_second,\n",
    "    y_train_second,\n",
    "    epochs=10,\n",
    "    validation_data=(X_validation, y_validation)\n",
    ")"
   ]
  },
  {
   "cell_type": "code",
   "execution_count": 39,
   "metadata": {},
   "outputs": [
    {
     "name": "stdout",
     "output_type": "stream",
     "text": [
      "Minimum validation loss reached in epoch 10\n"
     ]
    }
   ],
   "source": [
    "model3_history_dict = model3_history.history\n",
    "model3_min_epoch = optimal_epoch(model3_history_dict)"
   ]
  },
  {
   "cell_type": "code",
   "execution_count": 40,
   "metadata": {},
   "outputs": [
    {
     "data": {
      "image/png": "[encoded data removed]",
      "text/plain": [
       "<Figure size 432x288 with 1 Axes>"
      ]
     },
     "metadata": {
      "needs_background": "light"
     },
     "output_type": "display_data"
    }
   ],
   "source": [
    "plot_loss_graph(model3_history_dict['loss'], model3_history_dict['val_loss'])"
   ]
  },
  {
   "cell_type": "code",
   "execution_count": 41,
   "metadata": {},
   "outputs": [
    {
     "data": {
      "image/png": "[encoded data removed]",
      "text/plain": [
       "<Figure size 432x288 with 1 Axes>"
      ]
     },
     "metadata": {
      "needs_background": "light"
     },
     "output_type": "display_data"
    }
   ],
   "source": [
    "plot_accuracy_graph(model3_history_dict['accuracy'], model3_history_dict['val_accuracy'])"
   ]
  },
  {
   "cell_type": "code",
   "execution_count": 42,
   "metadata": {
    "scrolled": true
   },
   "outputs": [
    {
     "name": "stdout",
     "output_type": "stream",
     "text": [
      "73/73 [==============================] - 0s 855us/step - loss: 0.2638 - accuracy: 0.9117\n"
     ]
    },
    {
     "data": {
      "text/plain": [
       "[0.26382210850715637, 0.9116500616073608]"
      ]
     },
     "execution_count": 42,
     "metadata": {},
     "output_type": "execute_result"
    }
   ],
   "source": [
    "model_3.evaluate(X_test_matrix, y_test_categorise)"
   ]
  },
  {
   "cell_type": "markdown",
   "metadata": {},
   "source": [
    "## Results"
   ]
  },
  {
   "cell_type": "code",
   "execution_count": 43,
   "metadata": {},
   "outputs": [
    {
     "name": "stdout",
     "output_type": "stream",
     "text": [
      "Epoch 1/5\n",
      "289/289 [==============================] - 1s 4ms/step - loss: 0.1371 - accuracy: 0.9604\n",
      "Epoch 2/5\n",
      "289/289 [==============================] - 1s 4ms/step - loss: 0.1213 - accuracy: 0.9653\n",
      "Epoch 3/5\n",
      "289/289 [==============================] - 1s 4ms/step - loss: 0.1125 - accuracy: 0.9680\n",
      "Epoch 4/5\n",
      "289/289 [==============================] - 1s 4ms/step - loss: 0.1044 - accuracy: 0.9704\n",
      "Epoch 5/5\n",
      "289/289 [==============================] - 1s 4ms/step - loss: 0.1003 - accuracy: 0.9713\n",
      "73/73 [==============================] - 0s 883us/step - loss: 0.3233 - accuracy: 0.9039\n",
      "Test accuracy: 90.39%\n"
     ]
    }
   ],
   "source": [
    "model1_result = test_model_with_optimal_epoch(model_1, X_train_matrix, y_train_categorise, X_test_matrix, y_test_categorise, model1_min_epoch)"
   ]
  },
  {
   "cell_type": "code",
   "execution_count": 44,
   "metadata": {},
   "outputs": [
    {
     "name": "stdout",
     "output_type": "stream",
     "text": [
      "Epoch 1/10\n",
      "289/289 [==============================] - 0s 1ms/step - loss: 0.2588 - accuracy: 0.9105\n",
      "Epoch 2/10\n",
      "289/289 [==============================] - 0s 1ms/step - loss: 0.2508 - accuracy: 0.9126\n",
      "Epoch 3/10\n",
      "289/289 [==============================] - 0s 1ms/step - loss: 0.2430 - accuracy: 0.9115\n",
      "Epoch 4/10\n",
      "289/289 [==============================] - 0s 1ms/step - loss: 0.2389 - accuracy: 0.9183\n",
      "Epoch 5/10\n",
      "289/289 [==============================] - 0s 1ms/step - loss: 0.2342 - accuracy: 0.9191\n",
      "Epoch 6/10\n",
      "289/289 [==============================] - 0s 1ms/step - loss: 0.2318 - accuracy: 0.9187\n",
      "Epoch 7/10\n",
      "289/289 [==============================] - 0s 1ms/step - loss: 0.2248 - accuracy: 0.9236\n",
      "Epoch 8/10\n",
      "289/289 [==============================] - 0s 1ms/step - loss: 0.2224 - accuracy: 0.9243\n",
      "Epoch 9/10\n",
      "289/289 [==============================] - 0s 1ms/step - loss: 0.2189 - accuracy: 0.9233\n",
      "Epoch 10/10\n",
      "289/289 [==============================] - 0s 1ms/step - loss: 0.2174 - accuracy: 0.9260\n",
      "73/73 [==============================] - 0s 827us/step - loss: 0.2173 - accuracy: 0.9229\n",
      "Test accuracy: 92.29%\n"
     ]
    }
   ],
   "source": [
    "model2_result = test_model_with_optimal_epoch(model_2, X_train_matrix, y_train_categorise, X_test_matrix, y_test_categorise, model2_min_epoch)"
   ]
  },
  {
   "cell_type": "code",
   "execution_count": 45,
   "metadata": {
    "scrolled": true
   },
   "outputs": [
    {
     "name": "stdout",
     "output_type": "stream",
     "text": [
      "Epoch 1/10\n",
      "289/289 [==============================] - 0s 1ms/step - loss: 0.2737 - accuracy: 0.8890\n",
      "Epoch 2/10\n",
      "289/289 [==============================] - 0s 1ms/step - loss: 0.2721 - accuracy: 0.8902\n",
      "Epoch 3/10\n",
      "289/289 [==============================] - 0s 1ms/step - loss: 0.2653 - accuracy: 0.8921\n",
      "Epoch 4/10\n",
      "289/289 [==============================] - 0s 1ms/step - loss: 0.2585 - accuracy: 0.8955\n",
      "Epoch 5/10\n",
      "289/289 [==============================] - 0s 1ms/step - loss: 0.2575 - accuracy: 0.8960\n",
      "Epoch 6/10\n",
      "289/289 [==============================] - 0s 1ms/step - loss: 0.2502 - accuracy: 0.9024\n",
      "Epoch 7/10\n",
      "289/289 [==============================] - 0s 1ms/step - loss: 0.2497 - accuracy: 0.9011\n",
      "Epoch 8/10\n",
      "289/289 [==============================] - 0s 1ms/step - loss: 0.2476 - accuracy: 0.9044\n",
      "Epoch 9/10\n",
      "289/289 [==============================] - 0s 1ms/step - loss: 0.2484 - accuracy: 0.9014\n",
      "Epoch 10/10\n",
      "289/289 [==============================] - 0s 1ms/step - loss: 0.2420 - accuracy: 0.9051\n",
      "73/73 [==============================] - 0s 841us/step - loss: 0.2518 - accuracy: 0.9168\n",
      "Test accuracy: 91.68%\n"
     ]
    }
   ],
   "source": [
    "model3_result = test_model_with_optimal_epoch(model_3, X_train_matrix, y_train_categorise, X_test_matrix, y_test_categorise, model3_min_epoch)"
   ]
  },
  {
   "cell_type": "markdown",
   "metadata": {},
   "source": [
    "As a result, It can be seen that I was able to achieve a model that is between 90 - 92% accuracy. As it can be seen in comparison for baseline model and model that I have drafted with better results "
   ]
  },
  {
   "cell_type": "markdown",
   "metadata": {},
   "source": [
    "### Baseline Model Graph"
   ]
  },
  {
   "cell_type": "code",
   "execution_count": 46,
   "metadata": {},
   "outputs": [
    {
     "data": {
      "image/png": "[encoded data removed]",
      "text/plain": [
       "<Figure size 432x288 with 1 Axes>"
      ]
     },
     "metadata": {
      "needs_background": "light"
     },
     "output_type": "display_data"
    },
    {
     "data": {
      "image/png": "[encoded data removed]",
      "text/plain": [
       "<Figure size 432x288 with 1 Axes>"
      ]
     },
     "metadata": {
      "needs_background": "light"
     },
     "output_type": "display_data"
    }
   ],
   "source": [
    "plot_loss_graph(base_history_dict['loss'], base_history_dict['val_loss'])\n",
    "plot_accuracy_graph(base_history_dict['accuracy'], base_history_dict['val_accuracy'])"
   ]
  },
  {
   "cell_type": "markdown",
   "metadata": {},
   "source": [
    "### Model 2"
   ]
  },
  {
   "cell_type": "code",
   "execution_count": 47,
   "metadata": {},
   "outputs": [
    {
     "data": {
      "image/png": "[encoded data removed]",
      "text/plain": [
       "<Figure size 432x288 with 1 Axes>"
      ]
     },
     "metadata": {
      "needs_background": "light"
     },
     "output_type": "display_data"
    },
    {
     "data": {
      "image/png": "[encoded data removed]",
      "text/plain": [
       "<Figure size 432x288 with 1 Axes>"
      ]
     },
     "metadata": {
      "needs_background": "light"
     },
     "output_type": "display_data"
    }
   ],
   "source": [
    "plot_loss_graph(model2_history_dict['loss'], model2_history_dict['val_loss'])\n",
    "plot_accuracy_graph(model2_history_dict['accuracy'], model2_history_dict['val_accuracy'])"
   ]
  },
  {
   "cell_type": "markdown",
   "metadata": {},
   "source": [
    "## Conclusion"
   ]
  },
  {
   "cell_type": "markdown",
   "metadata": {},
   "source": [
    "I was able to train a model to achieve a slightly better accuracy than the baseline. Because I choose a dataset from kaggle, preparing the dataset for the models required a considerable amount of research since it is something I had to manually clean with filtering the stopwards and removing sections of the text like tags and prepare to be able to feed into the models.\n",
    "\n",
    "While tuning the models in order to retrieve a good model, it took a long time due to how long it takes to train the data. With the different options to reduce overfitting, the model still does overfit easily no matter how minor the modification of layers were, which ultimately was very time consuming. It can be seen that the model with the dropout layers perform the best on the test data.\n",
    "\n",
    "There there are more effective ways to increase accuracy that I have not explored one example would be to Ensemble models where we combine individual models [Ensemble Models](https://www.sciencedirect.com/topics/computer-science/ensemble-modeling#:~:text=Ensemble%20modeling%20is%20a%20process,prediction%20for%20the%20unseen%20data.)"
   ]
  },
  {
   "cell_type": "markdown",
   "metadata": {},
   "source": [
    "## References\n",
    "\n",
    "- dataframe, P. and Foley, L., 2022. Python remove stop words from pandas dataframe. [online] Stack Overflow. Available at: <https://stackoverflow.com/questions/29523254/python-remove-stop-words-from-pandas-dataframe>\n",
    "\n",
    "- Adamsmith.haus. 2022. Kite. Remove Tags [online] Available at: <https://www.adamsmith.haus/python/answers/how-to-use-re.sub()-in-python#:~:text=sub()%20to%20replace%20patterns,pattern%20in%20string%20with%20repl%20.>\n",
    "\n",
    "- TensorFlow. 2022. tf.keras.preprocessing.text.Tokenizer  |  TensorFlow Core v2.8.0. [online] Available at: <https://www.tensorflow.org/api_docs/python/tf/keras/preprocessing/text/Tokenizer>\n",
    "\n",
    "- TensorFlow. 2022. tf.keras.utils.to_categorical  |  TensorFlow Core v2.8.0. [online] Available at: <https://www.tensorflow.org/api_docs/python/tf/keras/utils/to_categorical>\n",
    "\n",
    "- Ensemble Modeling. 2015. Data Mining Process. [online] Available at: <https://www.sciencedirect.com/topics/computer-science/ensemble-modeling#:~:text=Ensemble%20modeling%20is%20a%20process,prediction%20for%20the%20unseen%20data.>\n",
    "\n",
    "- Kaggle.com. 2022. Twitter US Airline Sentiment. Dataset Used [online] Available at: <https://www.kaggle.com/crowdflower/twitter-airline-sentiment>"
   ]
  }
 ],
 "metadata": {
  "kernelspec": {
   "display_name": "Python 3",
   "language": "python",
   "name": "python3"
  },
  "language_info": {
   "codemirror_mode": {
    "name": "ipython",
    "version": 3
   },
   "file_extension": ".py",
   "mimetype": "text/x-python",
   "name": "python",
   "nbconvert_exporter": "python",
   "pygments_lexer": "ipython3",
   "version": "3.8.8"
  }
 },
 "nbformat": 4,
 "nbformat_minor": 4
}
